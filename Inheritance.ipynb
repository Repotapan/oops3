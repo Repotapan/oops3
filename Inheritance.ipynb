{
 "cells": [
  {
   "cell_type": "code",
   "execution_count": 9,
   "id": "1a891c75-4149-4794-8b95-0472b9819fcb",
   "metadata": {},
   "outputs": [],
   "source": [
    "class text:\n",
    "    def text_math(self):\n",
    "        return \"this is my first class\""
   ]
  },
  {
   "cell_type": "code",
   "execution_count": 10,
   "id": "e0c69e8e-fbad-451f-b805-dce395e110ac",
   "metadata": {},
   "outputs": [],
   "source": [
    "class child_text(text):\n",
    "    pass"
   ]
  },
  {
   "cell_type": "code",
   "execution_count": 11,
   "id": "fcf7fe2f-0047-4234-8f95-66eded44b368",
   "metadata": {},
   "outputs": [],
   "source": [
    "child_text_obj = child_text()"
   ]
  },
  {
   "cell_type": "code",
   "execution_count": 12,
   "id": "2fadc72c-d18a-4b15-ba03-83412c79ea4e",
   "metadata": {},
   "outputs": [
    {
     "data": {
      "text/plain": [
       "'this is my first class'"
      ]
     },
     "execution_count": 12,
     "metadata": {},
     "output_type": "execute_result"
    }
   ],
   "source": [
    "child_text_obj.text_math()"
   ]
  },
  {
   "cell_type": "code",
   "execution_count": 13,
   "id": "3a190d00-8d80-4fb3-8e0e-5ca965cfedf6",
   "metadata": {},
   "outputs": [],
   "source": [
    "class class1:\n",
    "    def test_class1(self):\n",
    "        return \"this is a method from class 1\"\n",
    "    "
   ]
  },
  {
   "cell_type": "code",
   "execution_count": 14,
   "id": "669e433c-2129-4ee9-a124-d72b2f2109ce",
   "metadata": {},
   "outputs": [],
   "source": [
    "class class2(class1):\n",
    "    def test_class2(self):\n",
    "        return \"this is my method for class 2\""
   ]
  },
  {
   "cell_type": "code",
   "execution_count": 15,
   "id": "f0a8a38a-f39f-4419-9ab3-e050e008898d",
   "metadata": {},
   "outputs": [],
   "source": [
    "class class3(class2):\n",
    "    pass"
   ]
  },
  {
   "cell_type": "code",
   "execution_count": 16,
   "id": "08719192-1139-4746-b939-2ed555494cf3",
   "metadata": {},
   "outputs": [],
   "source": [
    "obj_class3=class3()"
   ]
  },
  {
   "cell_type": "code",
   "execution_count": 17,
   "id": "9074de03-8c07-4a9a-8e09-1e4b13c3252c",
   "metadata": {},
   "outputs": [
    {
     "data": {
      "text/plain": [
       "'this is a method from class 1'"
      ]
     },
     "execution_count": 17,
     "metadata": {},
     "output_type": "execute_result"
    }
   ],
   "source": [
    "obj_class3.test_class1()"
   ]
  },
  {
   "cell_type": "code",
   "execution_count": 18,
   "id": "8972b9d7-2315-447a-a329-c494b0483b45",
   "metadata": {},
   "outputs": [
    {
     "data": {
      "text/plain": [
       "'this is my method for class 2'"
      ]
     },
     "execution_count": 18,
     "metadata": {},
     "output_type": "execute_result"
    }
   ],
   "source": [
    "obj_class3.test_class2()"
   ]
  },
  {
   "cell_type": "code",
   "execution_count": 19,
   "id": "68dbf5ea-fad8-490d-b463-e327e40703c4",
   "metadata": {},
   "outputs": [],
   "source": [
    "class class1:\n",
    "    def test(self):\n",
    "        return \"this is a class1\""
   ]
  },
  {
   "cell_type": "code",
   "execution_count": 20,
   "id": "583264c3-ad1e-41b1-8f86-3950d7ba2e93",
   "metadata": {},
   "outputs": [],
   "source": [
    "class class2:\n",
    "    def test1(self):\n",
    "        return \"this is class2\""
   ]
  },
  {
   "cell_type": "code",
   "execution_count": 21,
   "id": "bc28c7c0-3ab2-477c-9eea-ba12ecae4c4a",
   "metadata": {},
   "outputs": [],
   "source": [
    "class class3(class1,class2):\n",
    "    pass"
   ]
  },
  {
   "cell_type": "code",
   "execution_count": 22,
   "id": "98d402c9-7834-48b9-95d6-3d4aa873fe57",
   "metadata": {},
   "outputs": [],
   "source": [
    "obj_class3=class3()"
   ]
  },
  {
   "cell_type": "code",
   "execution_count": 24,
   "id": "30ef948f-759e-4783-9505-2ed9055f88f7",
   "metadata": {},
   "outputs": [
    {
     "data": {
      "text/plain": [
       "'this is a class1'"
      ]
     },
     "execution_count": 24,
     "metadata": {},
     "output_type": "execute_result"
    }
   ],
   "source": [
    "obj_class3.test()"
   ]
  },
  {
   "cell_type": "code",
   "execution_count": 26,
   "id": "245f69ab-06f5-4a18-9f58-f693d9095e03",
   "metadata": {},
   "outputs": [
    {
     "data": {
      "text/plain": [
       "'this is class2'"
      ]
     },
     "execution_count": 26,
     "metadata": {},
     "output_type": "execute_result"
    }
   ],
   "source": [
    "obj_class3.test1()"
   ]
  },
  {
   "cell_type": "markdown",
   "id": "8e220ca2-7eb2-4abe-afd4-4ffe5f9ab8be",
   "metadata": {},
   "source": [
    "This is called multiple inhertance"
   ]
  },
  {
   "cell_type": "code",
   "execution_count": null,
   "id": "aacc0a15-a428-49a6-85c5-04a5b98e62d5",
   "metadata": {},
   "outputs": [],
   "source": []
  }
 ],
 "metadata": {
  "kernelspec": {
   "display_name": "Python 3 (ipykernel)",
   "language": "python",
   "name": "python3"
  },
  "language_info": {
   "codemirror_mode": {
    "name": "ipython",
    "version": 3
   },
   "file_extension": ".py",
   "mimetype": "text/x-python",
   "name": "python",
   "nbconvert_exporter": "python",
   "pygments_lexer": "ipython3",
   "version": "3.10.8"
  }
 },
 "nbformat": 4,
 "nbformat_minor": 5
}
